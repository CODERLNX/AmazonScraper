{
 "cells": [
  {
   "cell_type": "code",
   "execution_count": 198,
   "id": "ef8c8ddb",
   "metadata": {},
   "outputs": [],
   "source": [
    "#IMPORT LIBRARIES\n",
    "from bs4 import BeautifulSoup as bs #Used to Scrape the data from Amazon\n",
    "import requests as rq #Used to send the GET Requests\n",
    "import time\n",
    "import datetime\n",
    "import pandas as pd\n",
    "import csv\n",
    "\n",
    "import smtplib"
   ]
  },
  {
   "cell_type": "code",
   "execution_count": null,
   "id": "a2043657",
   "metadata": {},
   "outputs": [],
   "source": [
    "\n",
    "url = \"https://www.amazon.com/Logitech-MK345-Wireless-Combo-Right-Handed/dp/B00QXT5T3U/ref=pd_sim_cpf_related_desktop_sccl_4_2/140-2880311-0562538?pd_rd_w=wBgTW&content-id=amzn1.sym.87783053-6326-44fc-9007-8a529451ab67&pf_rd_p=87783053-6326-44fc-9007-8a529451ab67&pf_rd_r=0A14T5B5G58TASBTG29A&pd_rd_wg=39KWL&pd_rd_r=9eb27239-2525-4673-85c9-f8c8b2683d76&pd_rd_i=B00QXT5T3U&psc=1\"\n",
    "headers = {\"User-Agent\": \"Mozilla/5.0 (Windows NT 10.0; Win64; x64) AppleWebKit/537.36 (KHTML, like Gecko) Chrome/100.0.4896.127 Safari/537.36 OPR/86.0.4363.70\"}\n",
    "#You get This header^^ From this page --> httpbin.org/get, on the user agent line.\n",
    "\n",
    "\n",
    "page = rq.get(url, headers=headers) #This Starts Bringing in the data W/ the GET request    \n",
    "\n",
    "soup1 = bs(page.content, 'html.parser') #This pulls in all the content from the page as HTML.\n",
    "soup1_pretty = bs(soup1.prettify(), \"html.parser\") #This makes the data more readable.\n",
    "\n",
    "title = soup1_pretty.find(id='productTitle').get_text() #Pulls in the name of the Item\n",
    "price = soup1_pretty.find('span', {'class': 'a-offscreen'}).get_text() #Pulls in the price of the item\n",
    "availability = soup1_pretty.find('span', {'class': 'a-size-medium a-color-success'}).get_text() #Pulls in if its in stock or not\n"
   ]
  },
  {
   "cell_type": "code",
   "execution_count": 266,
   "id": "412251ed",
   "metadata": {},
   "outputs": [],
   "source": [
    "#Formating\n",
    "title = title.strip() #Clears the WhiteSpaces\n",
    "price = price.split()[0] #Clears the WhiteSpaces\n",
    "price = price.strip()[1:]\n",
    "availability = availability.strip() #Clears the WhiteSpaces"
   ]
  },
  {
   "cell_type": "code",
   "execution_count": 267,
   "id": "0d103b85",
   "metadata": {},
   "outputs": [
    {
     "name": "stdout",
     "output_type": "stream",
     "text": [
      "Logitech MK345 Wireless Combo Full-Sized Keyboard with Palm Rest and Comfortable Right-Handed Mouse, 2.4 GHz Wireless USB Receiver, Compatible with PC, Laptop\n",
      "9.99\n",
      "In stock.\n"
     ]
    }
   ],
   "source": [
    "print(title)\n",
    "print(price)\n",
    "print(availability)"
   ]
  },
  {
   "cell_type": "code",
   "execution_count": 268,
   "id": "36c5a365",
   "metadata": {},
   "outputs": [],
   "source": [
    "date = datetime.date.today() #Sets the date variale to todays date"
   ]
  },
  {
   "cell_type": "code",
   "execution_count": 269,
   "id": "f7e1cc33",
   "metadata": {},
   "outputs": [],
   "source": [
    "#ONLY RUN THIS ONCE\n",
    "\n",
    "header = ['Title', 'Price', 'Availability', 'Date'] #Sets the names of the columns\n",
    "data = [title, price, availability, date] #Set the data to the appropiate column order\n",
    "\n",
    "with open(\"AmazonWebScraperDataset.csv\", 'w', newline='', encoding='UTF8') as f: #Makes the CSV File\n",
    "    writer = csv.writer(f) #writes the CSV File\n",
    "    writer.writerow(header) #Sets theh Columns\n",
    "    writer.writerow(data) # Sets the Rows of data"
   ]
  },
  {
   "cell_type": "code",
   "execution_count": 274,
   "id": "de33dafb",
   "metadata": {},
   "outputs": [],
   "source": [
    "#Now We Append Data\n",
    "data = [title, price, availability, date]\n",
    "with open(\"AmazonWebScraperDataset.csv\", 'a+', newline='', encoding='UTF8') as f: #This Adds data to the file\n",
    "    writer = csv.writer(f)\n",
    "    writer.writerow(data) #Adds more rows of data"
   ]
  },
  {
   "cell_type": "code",
   "execution_count": 205,
   "id": "fd891e75",
   "metadata": {},
   "outputs": [],
   "source": [
    "#USE THIS TO AUTOMATE IT\n",
    "\n",
    "def CheckPrice():\n",
    "    \n",
    "    url = \"https://www.amazon.com/Logitech-MK345-Wireless-Combo-Right-Handed/dp/B00QXT5T3U/ref=pd_sim_cpf_related_desktop_sccl_4_2/140-2880311-0562538?pd_rd_w=wBgTW&content-id=amzn1.sym.87783053-6326-44fc-9007-8a529451ab67&pf_rd_p=87783053-6326-44fc-9007-8a529451ab67&pf_rd_r=0A14T5B5G58TASBTG29A&pd_rd_wg=39KWL&pd_rd_r=9eb27239-2525-4673-85c9-f8c8b2683d76&pd_rd_i=B00QXT5T3U&psc=1\"\n",
    "\n",
    "    headers = {\"User-Agent\": \"Mozilla/5.0 (Windows NT 10.0; Win64; x64) AppleWebKit/537.36 (KHTML, like Gecko) Chrome/100.0.4896.127 Safari/537.36 OPR/86.0.4363.70\"}\n",
    "    page = rq.get(url, headers=headers) #This Starts Bringing in the data W/ the GET request    \n",
    "\n",
    "    soup1 = bs(page.content, 'html.parser') #This pulls in all the content from the page as HTML.\n",
    "    soup1_pretty = bs(soup1.prettify(), \"html.parser\") #This makes the data more readable.\n",
    "\n",
    "    title = soup1_pretty.find(id='productTitle').get_text() #Pulls in the name of the Item\n",
    "    price = soup1_pretty.find('span', {'class': 'a-offscreen'}).get_text() #Pulls in the price of the item\n",
    "    availability = soup1_pretty.find('span', {'class': 'a-size-medium a-color-success'}).get_text() #Pulls in if its in stock or not\n",
    "\n",
    "    \n",
    "    #Formating\n",
    "    title = title.strip() #Clears White Spaces\n",
    "    price = price.split()[0] #Clears whiteSpaces\n",
    "    price = price.strip()[1:] #Takes away the $ sign\n",
    "    availability = availability.strip() #Clears White Spaces\n",
    "    \n",
    "    #Gets Date\n",
    "    date = datetime.date.today() #gets todays Date\n",
    "    \n",
    "    \n",
    "    #Sets Data ready for CSV\n",
    "    data = [title, price, availability, date] #sets new data ni order of columns\n",
    "    \n",
    "    #Appends the data to the CSV\n",
    "    with open(\"AmazonWebScraperDataset.csv\", 'a+', newline='', encoding='UTF8') as f: #This Adds new data to the file\n",
    "        writer = csv.writer(f)\n",
    "        writer.writerow(data) #adds the new rows of data\n",
    "    \n",
    "    \n"
   ]
  },
  {
   "cell_type": "code",
   "execution_count": null,
   "id": "63bdfa07",
   "metadata": {},
   "outputs": [],
   "source": [
    "#This Checks the Price of the item Every 5 Secs\n",
    "while(True):\n",
    "    CheckPrice() #Activates Function\n",
    "    time.sleep(1) #Time It'll take to repeat. (86400 == 1 Day)"
   ]
  },
  {
   "cell_type": "code",
   "execution_count": null,
   "id": "6d9fc040",
   "metadata": {},
   "outputs": [],
   "source": []
  }
 ],
 "metadata": {
  "kernelspec": {
   "display_name": "Python 3 (ipykernel)",
   "language": "python",
   "name": "python3"
  },
  "language_info": {
   "codemirror_mode": {
    "name": "ipython",
    "version": 3
   },
   "file_extension": ".py",
   "mimetype": "text/x-python",
   "name": "python",
   "nbconvert_exporter": "python",
   "pygments_lexer": "ipython3",
   "version": "3.9.12"
  }
 },
 "nbformat": 4,
 "nbformat_minor": 5
}
